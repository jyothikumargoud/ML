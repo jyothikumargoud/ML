{
  "nbformat": 4,
  "nbformat_minor": 0,
  "metadata": {
    "colab": {
      "private_outputs": true,
      "provenance": [],
      "authorship_tag": "ABX9TyP6BeYZtpqdt7NwJXEWJxl9",
      "include_colab_link": true
    },
    "kernelspec": {
      "name": "python3",
      "display_name": "Python 3"
    },
    "language_info": {
      "name": "python"
    }
  },
  "cells": [
    {
      "cell_type": "markdown",
      "metadata": {
        "id": "view-in-github",
        "colab_type": "text"
      },
      "source": [
        "<a href=\"https://colab.research.google.com/github/jyothikumargoud/ML/blob/main/DATA_CLEANING_AND_EDA.ipynb\" target=\"_parent\"><img src=\"https://colab.research.google.com/assets/colab-badge.svg\" alt=\"Open In Colab\"/></a>"
      ]
    },
    {
      "cell_type": "code",
      "execution_count": null,
      "metadata": {
        "id": "IrxsGUJrE2rW"
      },
      "outputs": [],
      "source": [
        "import pandas as pd\n",
        "import numpy as np\n",
        "import matplotlib.pyplot as plt\n",
        "import seaborn as sns\n",
        "%matplotlib inline"
      ]
    },
    {
      "cell_type": "markdown",
      "source": [
        "##DATA CLEANING\n"
      ],
      "metadata": {
        "id": "IFBJhkIO3g-9"
      }
    },
    {
      "cell_type": "code",
      "source": [
        "df = pd.read_csv('Algerian_forest_fires_dataset_UPDATE.csv',header=1)"
      ],
      "metadata": {
        "id": "O5tZ8kBHHSSm"
      },
      "execution_count": null,
      "outputs": []
    },
    {
      "cell_type": "code",
      "source": [
        "df.head()"
      ],
      "metadata": {
        "id": "shRivW2nvBuF"
      },
      "execution_count": null,
      "outputs": []
    },
    {
      "cell_type": "code",
      "source": [
        "df.loc[:122,\"Region\"]=0\n",
        "df.loc[122:,\"Region\"]=1"
      ],
      "metadata": {
        "id": "UXn0xbr77m7_"
      },
      "execution_count": null,
      "outputs": []
    },
    {
      "cell_type": "code",
      "source": [
        "#data cleaning"
      ],
      "metadata": {
        "id": "JNmhfTfjvDH2"
      },
      "execution_count": null,
      "outputs": []
    },
    {
      "cell_type": "code",
      "source": [
        "#finding the rows where the null values are in\n",
        "df[df.isnull().any(axis=1)]"
      ],
      "metadata": {
        "id": "KW6CqtKlvQZ8"
      },
      "execution_count": null,
      "outputs": []
    },
    {
      "cell_type": "code",
      "source": [
        "df.info()"
      ],
      "metadata": {
        "id": "5QmzZzzyvchG"
      },
      "execution_count": null,
      "outputs": []
    },
    {
      "cell_type": "code",
      "source": [
        "df.head()"
      ],
      "metadata": {
        "id": "7RznsuIAwBXz"
      },
      "execution_count": null,
      "outputs": []
    },
    {
      "cell_type": "code",
      "source": [
        "df.isnull().sum()"
      ],
      "metadata": {
        "id": "vz4TwAdPwEYu"
      },
      "execution_count": null,
      "outputs": []
    },
    {
      "cell_type": "code",
      "source": [
        "df = df.dropna().reset_index(drop=True)\n",
        "df.head()\n"
      ],
      "metadata": {
        "id": "H1AiGwL2wJa8"
      },
      "execution_count": null,
      "outputs": []
    },
    {
      "cell_type": "code",
      "source": [
        "#here u can see no error\n",
        "df.isnull().sum()"
      ],
      "metadata": {
        "id": "9jK_KNEOwMvG"
      },
      "execution_count": null,
      "outputs": []
    },
    {
      "cell_type": "code",
      "source": [
        "#there is no null values in the rows also\n",
        "df[df.isnull().any(axis=1)]"
      ],
      "metadata": {
        "id": "o2yyFLLBxNBP"
      },
      "execution_count": null,
      "outputs": []
    },
    {
      "cell_type": "code",
      "source": [
        "#here u can see there is an row which is not useful ,we will remove it\n",
        "df.iloc[[122]]"
      ],
      "metadata": {
        "id": "xKW_Fc5_xU0W"
      },
      "execution_count": null,
      "outputs": []
    },
    {
      "cell_type": "code",
      "source": [
        "#after droping the rows we will reset the index no which column no\n",
        "df =df.drop([122]).reset_index(drop=True)"
      ],
      "metadata": {
        "id": "Rldl_ipRxqyH"
      },
      "execution_count": null,
      "outputs": []
    },
    {
      "cell_type": "code",
      "source": [
        "#now u can see it's got deleted and replace with the next row\n",
        "df.iloc[[122]]\n"
      ],
      "metadata": {
        "id": "efY7X9CQx2A3"
      },
      "execution_count": null,
      "outputs": []
    },
    {
      "cell_type": "code",
      "source": [
        "df.columns"
      ],
      "metadata": {
        "id": "qR81PtEzyCO5"
      },
      "execution_count": null,
      "outputs": []
    },
    {
      "cell_type": "code",
      "source": [
        "#fix the gaps in columns names\n",
        "df.columns=df.columns.str.strip()\n",
        "df.columns"
      ],
      "metadata": {
        "id": "oOV8lClIyxXl"
      },
      "execution_count": null,
      "outputs": []
    },
    {
      "cell_type": "code",
      "source": [
        "df.info()"
      ],
      "metadata": {
        "id": "TIQELfeLy3fN"
      },
      "execution_count": null,
      "outputs": []
    },
    {
      "cell_type": "code",
      "source": [
        "df.head()"
      ],
      "metadata": {
        "id": "Kxut2SAz1EUn"
      },
      "execution_count": null,
      "outputs": []
    },
    {
      "cell_type": "code",
      "source": [
        "#convert some of the feature data types into int\n",
        "df[['day','month','year','Temperature','RH','Ws']] = df[['day','month','year','Temperature','RH','Ws']] .astype(int)"
      ],
      "metadata": {
        "id": "9LWc0kF40OLw"
      },
      "execution_count": null,
      "outputs": []
    },
    {
      "cell_type": "code",
      "source": [],
      "metadata": {
        "id": "K5Ovdj-D29Qg"
      },
      "execution_count": null,
      "outputs": []
    },
    {
      "cell_type": "code",
      "source": [],
      "metadata": {
        "id": "QC3vtGi_Ar9x"
      },
      "execution_count": null,
      "outputs": []
    },
    {
      "cell_type": "code",
      "source": [
        "\n",
        "df.info()"
      ],
      "metadata": {
        "id": "7Ngn12if05MX"
      },
      "execution_count": null,
      "outputs": []
    },
    {
      "cell_type": "code",
      "source": [
        "#we are converting the remaing features data using some generic code to float except classes\n",
        "obj  = [features for features in df.columns if df[features].dtypes=='O']\n",
        "for i in obj:\n",
        "  if i!='Classes':\n",
        "    df[i]=df[i].astype(float)\n"
      ],
      "metadata": {
        "id": "ILkeQdFA1A1v"
      },
      "execution_count": null,
      "outputs": []
    },
    {
      "cell_type": "code",
      "source": [
        "df.info()"
      ],
      "metadata": {
        "id": "FioJBQ6Q2O_K"
      },
      "execution_count": null,
      "outputs": []
    },
    {
      "cell_type": "code",
      "source": [
        "df.describe()"
      ],
      "metadata": {
        "id": "3nj-nGD32r0_"
      },
      "execution_count": null,
      "outputs": []
    },
    {
      "cell_type": "code",
      "source": [
        "## Let save the cleaned dataset\n",
        "df.to_csv('Algerian_forest_fires_cleaned_dataset.csv',index=False)"
      ],
      "metadata": {
        "id": "1rWKPhWm2vYT"
      },
      "execution_count": null,
      "outputs": []
    },
    {
      "cell_type": "code",
      "source": [],
      "metadata": {
        "id": "MM1OUC4H3K5s"
      },
      "execution_count": null,
      "outputs": []
    },
    {
      "cell_type": "code",
      "source": [],
      "metadata": {
        "id": "pL6t8FQE3UfV"
      },
      "execution_count": null,
      "outputs": []
    },
    {
      "cell_type": "markdown",
      "source": [
        "#EDA"
      ],
      "metadata": {
        "id": "FfOr5np_3tCT"
      }
    },
    {
      "cell_type": "code",
      "source": [
        "df_copy=pd.read_csv('Algerian_forest_fires_cleaned_dataset.csv')\n",
        "df_copy.info()"
      ],
      "metadata": {
        "id": "7R_NlvIJ3rNH"
      },
      "execution_count": null,
      "outputs": []
    },
    {
      "cell_type": "code",
      "source": [
        "## categories in classes\n",
        "df_copy['Classes'].value_counts()\n"
      ],
      "metadata": {
        "id": "0O9eFsEF35y7"
      },
      "execution_count": null,
      "outputs": []
    },
    {
      "cell_type": "code",
      "source": [
        "## Encoding of the categories in classes\n",
        "df_copy['Classes'] = np.where(df['Classes'].str.contains('not fire'),0,1)\n"
      ],
      "metadata": {
        "id": "Ks25__vU4diK"
      },
      "execution_count": null,
      "outputs": []
    },
    {
      "cell_type": "code",
      "source": [
        "df_copy.head()"
      ],
      "metadata": {
        "id": "oqm_4MqK5r62"
      },
      "execution_count": null,
      "outputs": []
    },
    {
      "cell_type": "code",
      "source": [
        "df_copy.tail()\n"
      ],
      "metadata": {
        "id": "VdR59z7m6Ukn"
      },
      "execution_count": null,
      "outputs": []
    },
    {
      "cell_type": "code",
      "source": [
        "df_copy['Classes'].value_counts()"
      ],
      "metadata": {
        "id": "Gn4I2INs77Ga"
      },
      "execution_count": null,
      "outputs": []
    },
    {
      "cell_type": "code",
      "source": [
        "df_copy.hist(bins=40,figsize=(20,15))"
      ],
      "metadata": {
        "id": "zQ5SvtBy7_Im"
      },
      "execution_count": null,
      "outputs": []
    },
    {
      "cell_type": "code",
      "source": [
        "#percenbtage of o's and 1's in df classes\n",
        "percentage = df['Classes'].value_counts(normalize=True)\n",
        "print(f'percentage is {percentage*100}')"
      ],
      "metadata": {
        "id": "zL2vJl7h8ZHx"
      },
      "execution_count": null,
      "outputs": []
    },
    {
      "cell_type": "code",
      "source": [
        "df_copy['Classes']=np.where(df['Classes'].str.contains('not fire'),0,1)\n",
        "df_copy.dropna().reset_index(drop=True)"
      ],
      "metadata": {
        "id": "ELzpF0Iw9ePq"
      },
      "execution_count": null,
      "outputs": []
    },
    {
      "cell_type": "code",
      "source": [
        "df_copy.corr()"
      ],
      "metadata": {
        "id": "QUotUSiF-gyA"
      },
      "execution_count": null,
      "outputs": []
    },
    {
      "cell_type": "code",
      "source": [
        "sns.heatmap(df_copy.corr())"
      ],
      "metadata": {
        "id": "ONiMca3A_JAv"
      },
      "execution_count": null,
      "outputs": []
    },
    {
      "cell_type": "code",
      "source": [
        "sns.boxplot(df['FWI'],color='green')\n"
      ],
      "metadata": {
        "id": "KcjgLrcx_R5J"
      },
      "execution_count": null,
      "outputs": []
    },
    {
      "cell_type": "code",
      "source": [
        "df.head()\n",
        "\n"
      ],
      "metadata": {
        "id": "f98FNHmi_2oR"
      },
      "execution_count": null,
      "outputs": []
    },
    {
      "cell_type": "code",
      "source": [
        "## Monthly Fire Analysis\n",
        "dftemp=df.loc[df['Region']==1]\n",
        "plt.subplots(figsize=(13,6))\n",
        "sns.set_style('whitegrid')\n",
        "sns.countplot(x='month',hue='Classes',data=df)\n",
        "plt.ylabel('Number of Fires',weight='bold')\n",
        "plt.xlabel('Months',weight='bold')\n",
        "plt.title(\"Fire Analysis of Sidi- Bel Regions\",weight='bold')"
      ],
      "metadata": {
        "id": "ePS-7xpe_7Gg"
      },
      "execution_count": null,
      "outputs": []
    },
    {
      "cell_type": "code",
      "source": [
        "dftemp=df.loc[df['Region']==0]\n",
        "plt.subplots(figsize=(13,6))\n",
        "sns.set_style('whitegrid')\n",
        "sns.countplot(x='month',hue='Classes',data=df)\n",
        "plt.ylabel('Number of Fires',weight='bold')\n",
        "plt.xlabel('Months',weight='bold')\n",
        "plt.title(\"Fire Analysis of Brjaia Regions\",weight='bold')"
      ],
      "metadata": {
        "id": "ogcCWpHoAGr7"
      },
      "execution_count": null,
      "outputs": []
    },
    {
      "cell_type": "code",
      "source": [],
      "metadata": {
        "id": "gfaX1UL4ARiW"
      },
      "execution_count": null,
      "outputs": []
    }
  ]
}